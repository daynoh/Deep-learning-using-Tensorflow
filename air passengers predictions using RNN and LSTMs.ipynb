{
 "cells": [
  {
   "cell_type": "code",
   "execution_count": 21,
   "metadata": {},
   "outputs": [],
   "source": [
    "import pandas as pd\n",
    "import numpy as np \n",
    "import matplotlib.pyplot as plt\n",
    "from sklearn.preprocessing import MinMaxScaler\n",
    "from tensorflow.keras.layers import Dense, LSTM\n",
    "from tensorflow.keras.models import Sequential"
   ]
  },
  {
   "cell_type": "code",
   "execution_count": 16,
   "metadata": {},
   "outputs": [
    {
     "data": {
      "text/plain": [
       "0      112\n",
       "1      118\n",
       "2      132\n",
       "3      129\n",
       "4      121\n",
       "      ... \n",
       "139    606\n",
       "140    508\n",
       "141    461\n",
       "142    390\n",
       "143    432\n",
       "Name: #Passengers, Length: 144, dtype: int64"
      ]
     },
     "execution_count": 16,
     "metadata": {},
     "output_type": "execute_result"
    }
   ],
   "source": [
    "dataset = pd.read_csv('Airpassengers.csv')\n",
    "dataset['#Passengers'] \n"
   ]
  },
  {
   "cell_type": "code",
   "execution_count": 17,
   "metadata": {},
   "outputs": [],
   "source": [
    "dataset = dataset['#Passengers']\n",
    "dataset = np.array(dataset).reshape(-1,1)\n"
   ]
  },
  {
   "cell_type": "code",
   "execution_count": 19,
   "metadata": {},
   "outputs": [
    {
     "data": {
      "text/plain": [
       "array([[112],\n",
       "       [118],\n",
       "       [132],\n",
       "       [129],\n",
       "       [121],\n",
       "       [135],\n",
       "       [148],\n",
       "       [148],\n",
       "       [136],\n",
       "       [119],\n",
       "       [104],\n",
       "       [118],\n",
       "       [115],\n",
       "       [126],\n",
       "       [141],\n",
       "       [135],\n",
       "       [125],\n",
       "       [149],\n",
       "       [170],\n",
       "       [170],\n",
       "       [158],\n",
       "       [133],\n",
       "       [114],\n",
       "       [140],\n",
       "       [145],\n",
       "       [150],\n",
       "       [178],\n",
       "       [163],\n",
       "       [172],\n",
       "       [178],\n",
       "       [199],\n",
       "       [199],\n",
       "       [184],\n",
       "       [162],\n",
       "       [146],\n",
       "       [166],\n",
       "       [171],\n",
       "       [180],\n",
       "       [193],\n",
       "       [181],\n",
       "       [183],\n",
       "       [218],\n",
       "       [230],\n",
       "       [242],\n",
       "       [209],\n",
       "       [191],\n",
       "       [172],\n",
       "       [194],\n",
       "       [196],\n",
       "       [196],\n",
       "       [236],\n",
       "       [235],\n",
       "       [229],\n",
       "       [243],\n",
       "       [264],\n",
       "       [272],\n",
       "       [237],\n",
       "       [211],\n",
       "       [180],\n",
       "       [201],\n",
       "       [204],\n",
       "       [188],\n",
       "       [235],\n",
       "       [227],\n",
       "       [234],\n",
       "       [264],\n",
       "       [302],\n",
       "       [293],\n",
       "       [259],\n",
       "       [229],\n",
       "       [203],\n",
       "       [229],\n",
       "       [242],\n",
       "       [233],\n",
       "       [267],\n",
       "       [269],\n",
       "       [270],\n",
       "       [315],\n",
       "       [364],\n",
       "       [347],\n",
       "       [312],\n",
       "       [274],\n",
       "       [237],\n",
       "       [278],\n",
       "       [284],\n",
       "       [277],\n",
       "       [317],\n",
       "       [313],\n",
       "       [318],\n",
       "       [374],\n",
       "       [413],\n",
       "       [405],\n",
       "       [355],\n",
       "       [306],\n",
       "       [271],\n",
       "       [306],\n",
       "       [315],\n",
       "       [301],\n",
       "       [356],\n",
       "       [348],\n",
       "       [355],\n",
       "       [422],\n",
       "       [465],\n",
       "       [467],\n",
       "       [404],\n",
       "       [347],\n",
       "       [305],\n",
       "       [336],\n",
       "       [340],\n",
       "       [318],\n",
       "       [362],\n",
       "       [348],\n",
       "       [363],\n",
       "       [435],\n",
       "       [491],\n",
       "       [505],\n",
       "       [404],\n",
       "       [359],\n",
       "       [310],\n",
       "       [337],\n",
       "       [360],\n",
       "       [342],\n",
       "       [406],\n",
       "       [396],\n",
       "       [420],\n",
       "       [472],\n",
       "       [548],\n",
       "       [559],\n",
       "       [463],\n",
       "       [407],\n",
       "       [362],\n",
       "       [405],\n",
       "       [417],\n",
       "       [391],\n",
       "       [419],\n",
       "       [461],\n",
       "       [472],\n",
       "       [535],\n",
       "       [622],\n",
       "       [606],\n",
       "       [508],\n",
       "       [461],\n",
       "       [390],\n",
       "       [432]], dtype=int64)"
      ]
     },
     "execution_count": 19,
     "metadata": {},
     "output_type": "execute_result"
    }
   ],
   "source": [
    "dataset"
   ]
  },
  {
   "cell_type": "code",
   "execution_count": 23,
   "metadata": {},
   "outputs": [
    {
     "data": {
      "text/plain": [
       "[<matplotlib.lines.Line2D at 0x2bc42b2fb08>]"
      ]
     },
     "execution_count": 23,
     "metadata": {},
     "output_type": "execute_result"
    },
    {
     "data": {
      "image/png": "[encoded data removed]",
      "text/plain": [
       "<Figure size 432x288 with 1 Axes>"
      ]
     },
     "metadata": {
      "needs_background": "light"
     },
     "output_type": "display_data"
    }
   ],
   "source": [
    "plt.plot(dataset)"
   ]
  },
  {
   "cell_type": "code",
   "execution_count": 56,
   "metadata": {},
   "outputs": [
    {
     "data": {
      "text/plain": [
       "array([1.])"
      ]
     },
     "execution_count": 56,
     "metadata": {},
     "output_type": "execute_result"
    }
   ],
   "source": [
    "scaler = MinMaxScaler()\n",
    "dataset = scaler.fit_transform(dataset)\n",
    "dataset\n",
    "scaler.scale_"
   ]
  },
  {
   "cell_type": "markdown",
   "metadata": {},
   "source": [
    "## Creating training and test set"
   ]
  },
  {
   "cell_type": "code",
   "execution_count": 57,
   "metadata": {},
   "outputs": [],
   "source": [
    "train_size = 100\n",
    "test_size = 44"
   ]
  },
  {
   "cell_type": "code",
   "execution_count": 58,
   "metadata": {},
   "outputs": [
    {
     "data": {
      "text/plain": [
       "(100, 1)"
      ]
     },
     "execution_count": 58,
     "metadata": {},
     "output_type": "execute_result"
    }
   ],
   "source": [
    "train = dataset[0:train_size, :]\n",
    "train.shape"
   ]
  },
  {
   "cell_type": "code",
   "execution_count": 60,
   "metadata": {},
   "outputs": [
    {
     "data": {
      "text/plain": [
       "(44, 1)"
      ]
     },
     "execution_count": 60,
     "metadata": {},
     "output_type": "execute_result"
    }
   ],
   "source": [
    "test = dataset[train_size:144,:]\n",
    "test.shape"
   ]
  },
  {
   "cell_type": "markdown",
   "metadata": {},
   "source": [
    "### Building training and testing dataset"
   ]
  },
  {
   "cell_type": "code",
   "execution_count": 61,
   "metadata": {},
   "outputs": [],
   "source": [
    "def get_data(dataset,look_back):\n",
    "    dataX,dataY = [],[]\n",
    "\n",
    "    for i in range(len(dataset)-look_back-1):\n",
    "        a = dataset[i:(i+look_back),0]\n",
    "        dataX.append(a)\n",
    "        dataY.append(dataset[i+look_back,0])\n",
    "    return np.array(dataX), np.array(dataY)"
   ]
  },
  {
   "cell_type": "code",
   "execution_count": 62,
   "metadata": {},
   "outputs": [],
   "source": [
    "look_back =1\n",
    "X_train,y_train = get_data(train,look_back)"
   ]
  },
  {
   "cell_type": "code",
   "execution_count": 63,
   "metadata": {},
   "outputs": [
    {
     "data": {
      "text/plain": [
       "array([[0.01544402],\n",
       "       [0.02702703],\n",
       "       [0.05405405],\n",
       "       [0.04826255],\n",
       "       [0.03281853],\n",
       "       [0.05984556],\n",
       "       [0.08494208],\n",
       "       [0.08494208],\n",
       "       [0.06177606],\n",
       "       [0.02895753],\n",
       "       [0.        ],\n",
       "       [0.02702703],\n",
       "       [0.02123552],\n",
       "       [0.04247104],\n",
       "       [0.07142857],\n",
       "       [0.05984556],\n",
       "       [0.04054054],\n",
       "       [0.08687259],\n",
       "       [0.12741313],\n",
       "       [0.12741313],\n",
       "       [0.1042471 ],\n",
       "       [0.05598456],\n",
       "       [0.01930502],\n",
       "       [0.06949807],\n",
       "       [0.07915058],\n",
       "       [0.08880309],\n",
       "       [0.14285714],\n",
       "       [0.11389961],\n",
       "       [0.13127413],\n",
       "       [0.14285714],\n",
       "       [0.18339768],\n",
       "       [0.18339768],\n",
       "       [0.15444015],\n",
       "       [0.11196911],\n",
       "       [0.08108108],\n",
       "       [0.11969112],\n",
       "       [0.12934363],\n",
       "       [0.14671815],\n",
       "       [0.17181467],\n",
       "       [0.14864865],\n",
       "       [0.15250965],\n",
       "       [0.22007722],\n",
       "       [0.24324324],\n",
       "       [0.26640927],\n",
       "       [0.2027027 ],\n",
       "       [0.16795367],\n",
       "       [0.13127413],\n",
       "       [0.17374517],\n",
       "       [0.17760618],\n",
       "       [0.17760618],\n",
       "       [0.25482625],\n",
       "       [0.25289575],\n",
       "       [0.24131274],\n",
       "       [0.26833977],\n",
       "       [0.30888031],\n",
       "       [0.32432432],\n",
       "       [0.25675676],\n",
       "       [0.20656371],\n",
       "       [0.14671815],\n",
       "       [0.18725869],\n",
       "       [0.19305019],\n",
       "       [0.16216216],\n",
       "       [0.25289575],\n",
       "       [0.23745174],\n",
       "       [0.25096525],\n",
       "       [0.30888031],\n",
       "       [0.38223938],\n",
       "       [0.36486486],\n",
       "       [0.2992278 ],\n",
       "       [0.24131274],\n",
       "       [0.19111969],\n",
       "       [0.24131274],\n",
       "       [0.26640927],\n",
       "       [0.24903475],\n",
       "       [0.31467181],\n",
       "       [0.31853282],\n",
       "       [0.32046332],\n",
       "       [0.40733591],\n",
       "       [0.5019305 ],\n",
       "       [0.46911197],\n",
       "       [0.4015444 ],\n",
       "       [0.32818533],\n",
       "       [0.25675676],\n",
       "       [0.33590734],\n",
       "       [0.34749035],\n",
       "       [0.33397683],\n",
       "       [0.41119691],\n",
       "       [0.4034749 ],\n",
       "       [0.41312741],\n",
       "       [0.52123552],\n",
       "       [0.5965251 ],\n",
       "       [0.58108108],\n",
       "       [0.48455598],\n",
       "       [0.38996139],\n",
       "       [0.32239382],\n",
       "       [0.38996139],\n",
       "       [0.40733591],\n",
       "       [0.38030888]])"
      ]
     },
     "execution_count": 63,
     "metadata": {},
     "output_type": "execute_result"
    }
   ],
   "source": [
    "X_train"
   ]
  },
  {
   "cell_type": "code",
   "execution_count": 64,
   "metadata": {},
   "outputs": [
    {
     "data": {
      "text/plain": [
       "array([0.02702703, 0.05405405, 0.04826255, 0.03281853, 0.05984556,\n",
       "       0.08494208, 0.08494208, 0.06177606, 0.02895753, 0.        ,\n",
       "       0.02702703, 0.02123552, 0.04247104, 0.07142857, 0.05984556,\n",
       "       0.04054054, 0.08687259, 0.12741313, 0.12741313, 0.1042471 ,\n",
       "       0.05598456, 0.01930502, 0.06949807, 0.07915058, 0.08880309,\n",
       "       0.14285714, 0.11389961, 0.13127413, 0.14285714, 0.18339768,\n",
       "       0.18339768, 0.15444015, 0.11196911, 0.08108108, 0.11969112,\n",
       "       0.12934363, 0.14671815, 0.17181467, 0.14864865, 0.15250965,\n",
       "       0.22007722, 0.24324324, 0.26640927, 0.2027027 , 0.16795367,\n",
       "       0.13127413, 0.17374517, 0.17760618, 0.17760618, 0.25482625,\n",
       "       0.25289575, 0.24131274, 0.26833977, 0.30888031, 0.32432432,\n",
       "       0.25675676, 0.20656371, 0.14671815, 0.18725869, 0.19305019,\n",
       "       0.16216216, 0.25289575, 0.23745174, 0.25096525, 0.30888031,\n",
       "       0.38223938, 0.36486486, 0.2992278 , 0.24131274, 0.19111969,\n",
       "       0.24131274, 0.26640927, 0.24903475, 0.31467181, 0.31853282,\n",
       "       0.32046332, 0.40733591, 0.5019305 , 0.46911197, 0.4015444 ,\n",
       "       0.32818533, 0.25675676, 0.33590734, 0.34749035, 0.33397683,\n",
       "       0.41119691, 0.4034749 , 0.41312741, 0.52123552, 0.5965251 ,\n",
       "       0.58108108, 0.48455598, 0.38996139, 0.32239382, 0.38996139,\n",
       "       0.40733591, 0.38030888, 0.48648649])"
      ]
     },
     "execution_count": 64,
     "metadata": {},
     "output_type": "execute_result"
    }
   ],
   "source": [
    "y_train"
   ]
  },
  {
   "cell_type": "code",
   "execution_count": 77,
   "metadata": {},
   "outputs": [],
   "source": [
    "X_test, y_test = get_data(test,look_back)"
   ]
  },
  {
   "cell_type": "code",
   "execution_count": 85,
   "metadata": {},
   "outputs": [],
   "source": [
    "X_train = X_train.reshape(X_train.shape[0],X_train.shape[1],1)\n",
    "X_test = X_test.reshape(X_test.shape[0],X_test.shape[1],1)"
   ]
  },
  {
   "cell_type": "code",
   "execution_count": 67,
   "metadata": {},
   "outputs": [
    {
     "data": {
      "text/plain": [
       "(98, 1, 1)"
      ]
     },
     "execution_count": 67,
     "metadata": {},
     "output_type": "execute_result"
    }
   ],
   "source": [
    "X_train.shape"
   ]
  },
  {
   "cell_type": "markdown",
   "metadata": {},
   "source": [
    "### Building model"
   ]
  },
  {
   "cell_type": "code",
   "execution_count": 107,
   "metadata": {},
   "outputs": [],
   "source": [
    "model = Sequential()\n",
    "model.add(LSTM(5, input_shape = (1, look_back)))\n",
    "model.add(Dense(1))\n",
    "model.compile(loss = 'mean_squared_error',optimizer= 'adam')\n"
   ]
  },
  {
   "cell_type": "code",
   "execution_count": 101,
   "metadata": {},
   "outputs": [
    {
     "name": "stdout",
     "output_type": "stream",
     "text": [
      "Model: \"sequential_7\"\n",
      "_________________________________________________________________\n",
      "Layer (type)                 Output Shape              Param #   \n",
      "=================================================================\n",
      "lstm_7 (LSTM)                (None, 7)                 252       \n",
      "_________________________________________________________________\n",
      "dense_7 (Dense)              (None, 1)                 8         \n",
      "=================================================================\n",
      "Total params: 260\n",
      "Trainable params: 260\n",
      "Non-trainable params: 0\n",
      "_________________________________________________________________\n"
     ]
    }
   ],
   "source": [
    "model.summary()"
   ]
  },
  {
   "cell_type": "code",
   "execution_count": 109,
   "metadata": {},
   "outputs": [
    {
     "name": "stdout",
     "output_type": "stream",
     "text": [
      "Train on 98 samples\n",
      "Epoch 1/150\n",
      "98/98 [==============================] - 0s 429us/sample - loss: 0.0029\n",
      "Epoch 2/150\n",
      "98/98 [==============================] - 0s 255us/sample - loss: 0.0028\n",
      "Epoch 3/150\n",
      "98/98 [==============================] - 0s 337us/sample - loss: 0.0028\n",
      "Epoch 4/150\n",
      "98/98 [==============================] - 0s 378us/sample - loss: 0.0028\n",
      "Epoch 5/150\n",
      "98/98 [==============================] - 0s 296us/sample - loss: 0.0028\n",
      "Epoch 6/150\n",
      "98/98 [==============================] - 0s 327us/sample - loss: 0.0028\n",
      "Epoch 7/150\n",
      "98/98 [==============================] - 0s 347us/sample - loss: 0.0027\n",
      "Epoch 8/150\n",
      "98/98 [==============================] - 0s 408us/sample - loss: 0.0027\n",
      "Epoch 9/150\n",
      "98/98 [==============================] - 0s 306us/sample - loss: 0.0027\n",
      "Epoch 10/150\n",
      "98/98 [==============================] - 0s 306us/sample - loss: 0.0027\n",
      "Epoch 11/150\n",
      "98/98 [==============================] - 0s 429us/sample - loss: 0.0027\n",
      "Epoch 12/150\n",
      "98/98 [==============================] - 0s 316us/sample - loss: 0.0026\n",
      "Epoch 13/150\n",
      "98/98 [==============================] - 0s 337us/sample - loss: 0.0026\n",
      "Epoch 14/150\n",
      "98/98 [==============================] - 0s 326us/sample - loss: 0.0026\n",
      "Epoch 15/150\n",
      "98/98 [==============================] - 0s 480us/sample - loss: 0.0026\n",
      "Epoch 16/150\n",
      "98/98 [==============================] - 0s 449us/sample - loss: 0.0026\n",
      "Epoch 17/150\n",
      "98/98 [==============================] - 0s 327us/sample - loss: 0.0026\n",
      "Epoch 18/150\n",
      "98/98 [==============================] - 0s 388us/sample - loss: 0.0025\n",
      "Epoch 19/150\n",
      "98/98 [==============================] - 0s 347us/sample - loss: 0.0025\n",
      "Epoch 20/150\n",
      "98/98 [==============================] - 0s 378us/sample - loss: 0.0025\n",
      "Epoch 21/150\n",
      "98/98 [==============================] - 0s 367us/sample - loss: 0.0025\n",
      "Epoch 22/150\n",
      "98/98 [==============================] - 0s 347us/sample - loss: 0.0025\n",
      "Epoch 23/150\n",
      "98/98 [==============================] - 0s 449us/sample - loss: 0.0024\n",
      "Epoch 24/150\n",
      "98/98 [==============================] - 0s 449us/sample - loss: 0.0024\n",
      "Epoch 25/150\n",
      "98/98 [==============================] - 0s 286us/sample - loss: 0.0024\n",
      "Epoch 26/150\n",
      "98/98 [==============================] - 0s 296us/sample - loss: 0.0024\n",
      "Epoch 27/150\n",
      "98/98 [==============================] - 0s 306us/sample - loss: 0.0024\n",
      "Epoch 28/150\n",
      "98/98 [==============================] - 0s 602us/sample - loss: 0.0024\n",
      "Epoch 29/150\n",
      "98/98 [==============================] - 0s 388us/sample - loss: 0.0024\n",
      "Epoch 30/150\n",
      "98/98 [==============================] - 0s 337us/sample - loss: 0.0024\n",
      "Epoch 31/150\n",
      "98/98 [==============================] - 0s 316us/sample - loss: 0.0023\n",
      "Epoch 32/150\n",
      "98/98 [==============================] - 0s 337us/sample - loss: 0.0024\n",
      "Epoch 33/150\n",
      "98/98 [==============================] - 0s 337us/sample - loss: 0.0023\n",
      "Epoch 34/150\n",
      "98/98 [==============================] - 0s 245us/sample - loss: 0.0023\n",
      "Epoch 35/150\n",
      "98/98 [==============================] - 0s 286us/sample - loss: 0.0023\n",
      "Epoch 36/150\n",
      "98/98 [==============================] - 0s 357us/sample - loss: 0.0023\n",
      "Epoch 37/150\n",
      "98/98 [==============================] - 0s 347us/sample - loss: 0.0023\n",
      "Epoch 38/150\n",
      "98/98 [==============================] - 0s 347us/sample - loss: 0.0023\n",
      "Epoch 39/150\n",
      "98/98 [==============================] - 0s 306us/sample - loss: 0.0023\n",
      "Epoch 40/150\n",
      "98/98 [==============================] - 0s 337us/sample - loss: 0.0023\n",
      "Epoch 41/150\n",
      "98/98 [==============================] - 0s 510us/sample - loss: 0.0023\n",
      "Epoch 42/150\n",
      "98/98 [==============================] - 0s 337us/sample - loss: 0.0023\n",
      "Epoch 43/150\n",
      "98/98 [==============================] - 0s 255us/sample - loss: 0.0023\n",
      "Epoch 44/150\n",
      "98/98 [==============================] - 0s 296us/sample - loss: 0.0023\n",
      "Epoch 45/150\n",
      "98/98 [==============================] - 0s 306us/sample - loss: 0.0022\n",
      "Epoch 46/150\n",
      "98/98 [==============================] - 0s 357us/sample - loss: 0.0022\n",
      "Epoch 47/150\n",
      "98/98 [==============================] - 0s 327us/sample - loss: 0.0022\n",
      "Epoch 48/150\n",
      "98/98 [==============================] - 0s 286us/sample - loss: 0.0023\n",
      "Epoch 49/150\n",
      "98/98 [==============================] - 0s 245us/sample - loss: 0.0023\n",
      "Epoch 50/150\n",
      "98/98 [==============================] - ETA: 0s - loss: 0.003 - 0s 306us/sample - loss: 0.0023\n",
      "Epoch 51/150\n",
      "98/98 [==============================] - 0s 275us/sample - loss: 0.0023\n",
      "Epoch 52/150\n",
      "98/98 [==============================] - 0s 541us/sample - loss: 0.0022\n",
      "Epoch 53/150\n",
      "98/98 [==============================] - 0s 388us/sample - loss: 0.0022\n",
      "Epoch 54/150\n",
      "98/98 [==============================] - 0s 378us/sample - loss: 0.0022\n",
      "Epoch 55/150\n",
      "98/98 [==============================] - 0s 357us/sample - loss: 0.0022\n",
      "Epoch 56/150\n",
      "98/98 [==============================] - 0s 347us/sample - loss: 0.0022\n",
      "Epoch 57/150\n",
      "98/98 [==============================] - 0s 286us/sample - loss: 0.0022\n",
      "Epoch 58/150\n",
      "98/98 [==============================] - 0s 275us/sample - loss: 0.0022\n",
      "Epoch 59/150\n",
      "98/98 [==============================] - 0s 286us/sample - loss: 0.0022\n",
      "Epoch 60/150\n",
      "98/98 [==============================] - 0s 459us/sample - loss: 0.0022\n",
      "Epoch 61/150\n",
      "98/98 [==============================] - 0s 418us/sample - loss: 0.0022\n",
      "Epoch 62/150\n",
      "98/98 [==============================] - 0s 500us/sample - loss: 0.0022\n",
      "Epoch 63/150\n",
      "98/98 [==============================] - 0s 867us/sample - loss: 0.0022\n",
      "Epoch 64/150\n",
      "98/98 [==============================] - 0s 459us/sample - loss: 0.0022\n",
      "Epoch 65/150\n",
      "98/98 [==============================] - 0s 469us/sample - loss: 0.0022\n",
      "Epoch 66/150\n",
      "98/98 [==============================] - 0s 388us/sample - loss: 0.0022\n",
      "Epoch 67/150\n",
      "98/98 [==============================] - 0s 265us/sample - loss: 0.0022\n",
      "Epoch 68/150\n",
      "98/98 [==============================] - 0s 347us/sample - loss: 0.0022\n",
      "Epoch 69/150\n",
      "98/98 [==============================] - 0s 326us/sample - loss: 0.0022\n",
      "Epoch 70/150\n",
      "98/98 [==============================] - 0s 388us/sample - loss: 0.0022\n",
      "Epoch 71/150\n",
      "98/98 [==============================] - 0s 316us/sample - loss: 0.0022\n",
      "Epoch 72/150\n",
      "98/98 [==============================] - 0s 296us/sample - loss: 0.0022\n",
      "Epoch 73/150\n",
      "98/98 [==============================] - 0s 306us/sample - loss: 0.0022\n",
      "Epoch 74/150\n",
      "98/98 [==============================] - 0s 316us/sample - loss: 0.0021\n",
      "Epoch 75/150\n",
      "98/98 [==============================] - 0s 286us/sample - loss: 0.0021\n",
      "Epoch 76/150\n",
      "98/98 [==============================] - 0s 347us/sample - loss: 0.0021\n",
      "Epoch 77/150\n",
      "98/98 [==============================] - 0s 245us/sample - loss: 0.0021\n",
      "Epoch 78/150\n",
      "98/98 [==============================] - 0s 255us/sample - loss: 0.0021\n",
      "Epoch 79/150\n",
      "98/98 [==============================] - 0s 286us/sample - loss: 0.0021\n",
      "Epoch 80/150\n",
      "98/98 [==============================] - 0s 265us/sample - loss: 0.0021\n",
      "Epoch 81/150\n",
      "98/98 [==============================] - 0s 265us/sample - loss: 0.0021\n",
      "Epoch 82/150\n",
      "98/98 [==============================] - 0s 245us/sample - loss: 0.0021\n",
      "Epoch 83/150\n",
      "98/98 [==============================] - 0s 275us/sample - loss: 0.0021\n",
      "Epoch 84/150\n",
      "98/98 [==============================] - 0s 398us/sample - loss: 0.0021\n",
      "Epoch 85/150\n",
      "98/98 [==============================] - 0s 316us/sample - loss: 0.0021\n",
      "Epoch 86/150\n",
      "98/98 [==============================] - 0s 337us/sample - loss: 0.0021\n",
      "Epoch 87/150\n",
      "98/98 [==============================] - 0s 408us/sample - loss: 0.0021\n",
      "Epoch 88/150\n",
      "98/98 [==============================] - 0s 265us/sample - loss: 0.0021\n",
      "Epoch 89/150\n",
      "98/98 [==============================] - 0s 245us/sample - loss: 0.0021\n",
      "Epoch 90/150\n",
      "98/98 [==============================] - 0s 316us/sample - loss: 0.0021\n",
      "Epoch 91/150\n",
      "98/98 [==============================] - 0s 306us/sample - loss: 0.0021\n",
      "Epoch 92/150\n",
      "98/98 [==============================] - 0s 316us/sample - loss: 0.0021\n",
      "Epoch 93/150\n",
      "98/98 [==============================] - 0s 265us/sample - loss: 0.0021\n",
      "Epoch 94/150\n",
      "98/98 [==============================] - 0s 316us/sample - loss: 0.0021\n",
      "Epoch 95/150\n",
      "98/98 [==============================] - 0s 316us/sample - loss: 0.0021\n",
      "Epoch 96/150\n",
      "98/98 [==============================] - 0s 296us/sample - loss: 0.0021\n"
     ]
    },
    {
     "name": "stdout",
     "output_type": "stream",
     "text": [
      "Epoch 97/150\n",
      "98/98 [==============================] - 0s 296us/sample - loss: 0.0021\n",
      "Epoch 98/150\n",
      "98/98 [==============================] - 0s 327us/sample - loss: 0.0021\n",
      "Epoch 99/150\n",
      "98/98 [==============================] - 0s 296us/sample - loss: 0.0021\n",
      "Epoch 100/150\n",
      "98/98 [==============================] - 0s 775us/sample - loss: 0.0021\n",
      "Epoch 101/150\n",
      "98/98 [==============================] - 0s 408us/sample - loss: 0.0021\n",
      "Epoch 102/150\n",
      "98/98 [==============================] - 0s 214us/sample - loss: 0.0022\n",
      "Epoch 103/150\n",
      "98/98 [==============================] - 0s 194us/sample - loss: 0.0022\n",
      "Epoch 104/150\n",
      "98/98 [==============================] - 0s 194us/sample - loss: 0.0022\n",
      "Epoch 105/150\n",
      "98/98 [==============================] - 0s 173us/sample - loss: 0.0021\n",
      "Epoch 106/150\n",
      "98/98 [==============================] - 0s 173us/sample - loss: 0.0021\n",
      "Epoch 107/150\n",
      "98/98 [==============================] - 0s 194us/sample - loss: 0.0021\n",
      "Epoch 108/150\n",
      "98/98 [==============================] - 0s 184us/sample - loss: 0.0021\n",
      "Epoch 109/150\n",
      "98/98 [==============================] - 0s 184us/sample - loss: 0.0022\n",
      "Epoch 110/150\n",
      "98/98 [==============================] - 0s 224us/sample - loss: 0.0022\n",
      "Epoch 111/150\n",
      "98/98 [==============================] - 0s 235us/sample - loss: 0.0022\n",
      "Epoch 112/150\n",
      "98/98 [==============================] - 0s 224us/sample - loss: 0.0021\n",
      "Epoch 113/150\n",
      "98/98 [==============================] - 0s 184us/sample - loss: 0.0021\n",
      "Epoch 114/150\n",
      "98/98 [==============================] - 0s 204us/sample - loss: 0.0021\n",
      "Epoch 115/150\n",
      "98/98 [==============================] - 0s 235us/sample - loss: 0.0021\n",
      "Epoch 116/150\n",
      "98/98 [==============================] - 0s 653us/sample - loss: 0.0021\n",
      "Epoch 117/150\n",
      "98/98 [==============================] - 0s 296us/sample - loss: 0.0021\n",
      "Epoch 118/150\n",
      "98/98 [==============================] - ETA: 0s - loss: 0.001 - 0s 337us/sample - loss: 0.0021\n",
      "Epoch 119/150\n",
      "98/98 [==============================] - 0s 367us/sample - loss: 0.0021\n",
      "Epoch 120/150\n",
      "98/98 [==============================] - 0s 347us/sample - loss: 0.0021\n",
      "Epoch 121/150\n",
      "98/98 [==============================] - 0s 347us/sample - loss: 0.0021\n",
      "Epoch 122/150\n",
      "98/98 [==============================] - 0s 367us/sample - loss: 0.0021\n",
      "Epoch 123/150\n",
      "98/98 [==============================] - 0s 388us/sample - loss: 0.0021\n",
      "Epoch 124/150\n",
      "98/98 [==============================] - 0s 337us/sample - loss: 0.0021\n",
      "Epoch 125/150\n",
      "98/98 [==============================] - 0s 357us/sample - loss: 0.0021\n",
      "Epoch 126/150\n",
      "98/98 [==============================] - 0s 429us/sample - loss: 0.0021\n",
      "Epoch 127/150\n",
      "98/98 [==============================] - 0s 347us/sample - loss: 0.0021\n",
      "Epoch 128/150\n",
      "98/98 [==============================] - 0s 367us/sample - loss: 0.0022\n",
      "Epoch 129/150\n",
      "98/98 [==============================] - 0s 337us/sample - loss: 0.0022\n",
      "Epoch 130/150\n",
      "98/98 [==============================] - 0s 388us/sample - loss: 0.0022\n",
      "Epoch 131/150\n",
      "98/98 [==============================] - 0s 337us/sample - loss: 0.0022\n",
      "Epoch 132/150\n",
      "98/98 [==============================] - 0s 337us/sample - loss: 0.0022\n",
      "Epoch 133/150\n",
      "98/98 [==============================] - 0s 286us/sample - loss: 0.0022\n",
      "Epoch 134/150\n",
      "98/98 [==============================] - 0s 378us/sample - loss: 0.0021\n",
      "Epoch 135/150\n",
      "98/98 [==============================] - 0s 622us/sample - loss: 0.0021\n",
      "Epoch 136/150\n",
      "98/98 [==============================] - 0s 796us/sample - loss: 0.0021\n",
      "Epoch 137/150\n",
      "98/98 [==============================] - 0s 296us/sample - loss: 0.0021\n",
      "Epoch 138/150\n",
      "98/98 [==============================] - 0s 500us/sample - loss: 0.0021\n",
      "Epoch 139/150\n",
      "98/98 [==============================] - 0s 337us/sample - loss: 0.0021\n",
      "Epoch 140/150\n",
      "98/98 [==============================] - 0s 633us/sample - loss: 0.0021\n",
      "Epoch 141/150\n",
      "98/98 [==============================] - 0s 429us/sample - loss: 0.0021\n",
      "Epoch 142/150\n",
      "98/98 [==============================] - 0s 490us/sample - loss: 0.0021\n",
      "Epoch 143/150\n",
      "98/98 [==============================] - 0s 684us/sample - loss: 0.0021\n",
      "Epoch 144/150\n",
      "98/98 [==============================] - 0s 398us/sample - loss: 0.0021\n",
      "Epoch 145/150\n",
      "98/98 [==============================] - 0s 418us/sample - loss: 0.0021\n",
      "Epoch 146/150\n",
      "98/98 [==============================] - 0s 367us/sample - loss: 0.0021\n",
      "Epoch 147/150\n",
      "98/98 [==============================] - 0s 408us/sample - loss: 0.0021\n",
      "Epoch 148/150\n",
      "98/98 [==============================] - 0s 347us/sample - loss: 0.0021\n",
      "Epoch 149/150\n",
      "98/98 [==============================] - 0s 398us/sample - loss: 0.0021\n",
      "Epoch 150/150\n",
      "98/98 [==============================] - 0s 510us/sample - loss: 0.0021\n"
     ]
    },
    {
     "data": {
      "text/plain": [
       "<tensorflow.python.keras.callbacks.History at 0x2bc5652a908>"
      ]
     },
     "execution_count": 109,
     "metadata": {},
     "output_type": "execute_result"
    }
   ],
   "source": [
    "model.fit(X_train,y_train, epochs = 150, verbose =1)"
   ]
  },
  {
   "cell_type": "code",
   "execution_count": 110,
   "metadata": {},
   "outputs": [],
   "source": [
    "y_pred = model.predict(X_test)"
   ]
  },
  {
   "cell_type": "code",
   "execution_count": 51,
   "metadata": {},
   "outputs": [
    {
     "data": {
      "text/plain": [
       "array([1.])"
      ]
     },
     "execution_count": 51,
     "metadata": {},
     "output_type": "execute_result"
    }
   ],
   "source": [
    "scaler.scale_"
   ]
  },
  {
   "cell_type": "code",
   "execution_count": null,
   "metadata": {},
   "outputs": [],
   "source": []
  },
  {
   "cell_type": "code",
   "execution_count": 72,
   "metadata": {},
   "outputs": [],
   "source": [
    "y_pred = scaler.inverse_transform(y_pred)\n"
   ]
  },
  {
   "cell_type": "code",
   "execution_count": 75,
   "metadata": {},
   "outputs": [],
   "source": [
    "y_test = np.array(y_test)\n",
    "y_test = y_test.reshape(-1,1)\n",
    "y_test = scaler.inverse_transform(y_test)"
   ]
  },
  {
   "cell_type": "code",
   "execution_count": 111,
   "metadata": {},
   "outputs": [
    {
     "data": {
      "image/png": "[encoded data removed]",
      "text/plain": [
       "<Figure size 1008x360 with 1 Axes>"
      ]
     },
     "metadata": {
      "needs_background": "light"
     },
     "output_type": "display_data"
    }
   ],
   "source": [
    "plt.figure(figsize = (14,5))\n",
    "plt.plot(y_test, label = 'real number of passengers')\n",
    "plt.plot(y_pred, label = 'predicted number of passengers')\n",
    "plt.ylabel ('Passengers')\n",
    "plt.legend()\n",
    "plt.show()"
   ]
  },
  {
   "cell_type": "code",
   "execution_count": null,
   "metadata": {},
   "outputs": [],
   "source": []
  }
 ],
 "metadata": {
  "kernelspec": {
   "display_name": "Python 3",
   "language": "python",
   "name": "python3"
  },
  "language_info": {
   "codemirror_mode": {
    "name": "ipython",
    "version": 3
   },
   "file_extension": ".py",
   "mimetype": "text/x-python",
   "name": "python",
   "nbconvert_exporter": "python",
   "pygments_lexer": "ipython3",
   "version": "3.7.4"
  }
 },
 "nbformat": 4,
 "nbformat_minor": 2
}
